{
 "cells": [
  {
   "cell_type": "markdown",
   "metadata": {},
   "source": [
    "# Building Recommendation System with Deep Reinforcement Learning and Neo4j"
   ]
  },
  {
   "cell_type": "markdown",
   "metadata": {},
   "source": [
    "## Introduction\n",
    "In this tutorial We will be building a movie recommendantion enine leveraging a blend of graph-based machine learning and deep reinforcement learning (DRL). This post details an approach using [Neo4j](https://neo4j.com) graph embeddings, generated through Node2Vec algorithm, combined with a PyTorch-based Deep Q-Network (DQN) for dynamic movie recommendations.\n",
    "We will be using the [DVD Rental Database](https://www.postgresqltutorial.com/postgresql-getting-started/postgresql-sample-database/) that we have used in a couple of posts before. We showed how we can download and populate the data into Neo4j database in this previous [tutorial](https://minimatech.org/from-relational-to-neo4j/). We will also be leveraging the [Graph Data Science](https://neo4j.com/product/graph-data-science/) (GDS) library in Neo4j to get the Node2Vec embeddings. You can refer to the full code in the project's notebook in Github [here](https://github.com/MNoorFawi/building-recommendation-engine-with-reinforcement-learning).\n",
    "\n",
    "Let's quickly try to do some imports and do quick queries on the database to make sure everything is ready. We will query the labels of nodes and types of the relationships."
   ]
  },
  {
   "cell_type": "code",
   "execution_count": 1,
   "metadata": {},
   "outputs": [],
   "source": [
    "import random\n",
    "from collections import deque\n",
    "import numpy as np\n",
    "import pandas as pd\n",
    "import torch\n",
    "import torch.nn as nn\n",
    "import torch.optim as optim\n",
    "from neo4j import GraphDatabase\n",
    "\n",
    "\n",
    "driver = GraphDatabase.driver(\"bolt://localhost:7687\",\n",
    "                              auth = (\"neo4j\", \"password\"))\n",
    "\n",
    "def neo4j_run(q):\n",
    "    return list(driver.session().run(q))"
   ]
  },
  {
   "cell_type": "code",
   "execution_count": 2,
   "metadata": {},
   "outputs": [
    {
     "data": {
      "text/plain": [
       "[<Record labels(n)=['Actor']>,\n",
       " <Record labels(n)=['Customer']>,\n",
       " <Record labels(n)=['Category']>,\n",
       " <Record labels(n)=['Film']>]"
      ]
     },
     "execution_count": 2,
     "metadata": {},
     "output_type": "execute_result"
    }
   ],
   "source": [
    "neo4j_run(\"match (n) return distinct labels(n);\")"
   ]
  },
  {
   "cell_type": "code",
   "execution_count": 3,
   "metadata": {},
   "outputs": [
    {
     "data": {
      "text/plain": [
       "[<Record type(r)='RENTED'>,\n",
       " <Record type(r)='ACTED_IN'>,\n",
       " <Record type(r)='OF_GENRE'>,\n",
       " <Record type(r)='FAN_OF'>]"
      ]
     },
     "execution_count": 3,
     "metadata": {},
     "output_type": "execute_result"
    }
   ],
   "source": [
    "neo4j_run(\"match ()-[r]->() return distinct type(r);\")"
   ]
  },
  {
   "cell_type": "markdown",
   "metadata": {},
   "source": [
    "As we can see, the database consists of the nodes (Actor, Film, Category and Customer) and the edges (RENTED, ACTED_IN, OF_GENRE and FAN_OF) that describe the intrinsic relationships in the data. We will now use GDS Node2Vec to get the graph embeddings. One important thing to note is that we will exclude anything related to Customer's nodes and edges to avoid any data leakage because we want the DRL model to build knowledge on its own interacting with the environment and users without any imposed pre-knowledge.\n",
    "\n",
    "## Node2Vec Embeddings\n",
    "Node2Vec is an influential algorithm in graph theory, designed to efficiently create vector representations of nodes in a graph. It excels in preserving both the local and global structures of graphs. By prioritizing neighborhood information, it effectively will capture the contextual similarities between movies considering their genres -Category- and the Actors acted in them.\n",
    "\n",
    "To achieve this, we will project a graph using GDS excluding the Customer nodes and its relationships and then get the embeddings as follows:"
   ]
  },
  {
   "cell_type": "code",
   "execution_count": 4,
   "metadata": {},
   "outputs": [
    {
     "data": {
      "text/plain": [
       "[<Record graphName='dvd_rental' nodeCount=1216>]"
      ]
     },
     "execution_count": 4,
     "metadata": {},
     "output_type": "execute_result"
    }
   ],
   "source": [
    "graph_query = \"\"\"\n",
    "call gds.graph.project(\n",
    "  \"dvd_rental\",\n",
    "  [\"Actor\", \"Film\", \"Category\"],\n",
    "  [\"ACTED_IN\", \"OF_GENRE\"]\n",
    ") yield graphName, nodeCount;\n",
    "\"\"\"\n",
    "neo4j_run(graph_query)"
   ]
  },
  {
   "cell_type": "code",
   "execution_count": 5,
   "metadata": {},
   "outputs": [
    {
     "data": {
      "text/plain": [
       "[<Record nodeCount=1216>]"
      ]
     },
     "execution_count": 5,
     "metadata": {},
     "output_type": "execute_result"
    }
   ],
   "source": [
    "emb_query = \"\"\"\n",
    "call gds.node2vec.mutate(\"dvd_rental\",\n",
    "    {\n",
    "        embeddingDimension: 100,\n",
    "        randomSeed: 1311,\n",
    "        mutateProperty: \"node2vec_embeddings\",\n",
    "        iterations: 100,\n",
    "        walkLength: 5,\n",
    "        walksPerNode: 10\n",
    "    }\n",
    ") yield nodeCount;\n",
    "\"\"\"\n",
    "neo4j_run(emb_query)"
   ]
  },
  {
   "cell_type": "markdown",
   "metadata": {},
   "source": [
    "Now we will extract the movie embeddings along with the users information about the movies they rented (watched). This to create our environment and simulate the interactions the DRL agent will have with it."
   ]
  },
  {
   "cell_type": "code",
   "execution_count": 6,
   "metadata": {},
   "outputs": [],
   "source": [
    "q = \"\"\"\n",
    "call {\n",
    "    match (f:Film)\n",
    "    with f.Title as movie,\n",
    "    gds.util.nodeProperty(\"dvd_rental\",\n",
    "                          id(f),\n",
    "                          \"node2vec_embeddings\")\n",
    "    as embeddings\n",
    "    return movie, embeddings\n",
    "}\n",
    "in transactions of 1000 rows\n",
    "return movie, embeddings;\n",
    "\"\"\"\n",
    "## Movies embeddings\n",
    "df = pd.DataFrame(neo4j_run(q), columns = \"movie embeddings\".split())\n",
    "embs = np.array(df[\"embeddings\"].values.tolist())\n",
    "movie_embeddings = dict(zip(df[\"movie\"].tolist(), embs))\n",
    "q = \"\"\"\n",
    "match (c: Customer)-[:RENTED]->(f:Film)\n",
    "with c.firstName + \" \" + c.lastName as user, collect(distinct f.Title) as movies\n",
    "return user, movies;\n",
    "\"\"\"\n",
    "## The movies every user has watched/rented\n",
    "user_movies = dict(neo4j_run(q))"
   ]
  },
  {
   "cell_type": "markdown",
   "metadata": {},
   "source": [
    "## Deep Reinforcement Learning (DRL)\n",
    "### Understanding the Types\n",
    "In the realm of Deep Reinforcement Learning (DRL), there are primarily two types of approaches: policy-based and value-based.\n",
    "\n",
    "**Policy-Based Algorithms**: These focus directly on learning the policy function that maps states to actions. The policy is 'what action to be taken in a certain state'. The policy could be deterministic (direct mapping) or stochastic (providing probabilities for actions). Examples include REINFORCE and Proximal Policy Optimization (PPO).\n",
    "\n",
    "**Value-Based Algorithms**: These algorithms, like Deep Q-Network (DQN), focus on learning the value function, which estimates how good a certain action is in a given state i.e. would yield the best reward. The policy is derived by selecting actions that maximize this value. [Q-learning](https://en.wikipedia.org/wiki/Q-learning), in general, is a model-free reinforcement learning algorithm to learn the value of an action in a particular state."
   ]
  },
  {
   "cell_type": "markdown",
   "metadata": {},
   "source": [
    "### Understanding Deep Q-Network\n",
    "**Deep Q-Network (DQN)** is a value-based DRL algorithm that combines traditional Q-learning with deep neural networks.\n",
    "\n",
    "How DQN Works: DQN approximates the Q-value function using a deep neural network. This function estimates the expected rewards for taking different actions in a given state. In our context, DQN can handle complex state representations (like user histories and preferences) and efficiently learn the best actions (movie recommendations). The neural network in DQN enables us to process high-dimensional input (like embeddings), making it suitable for our case.\n",
    "\n",
    "We will also use **experience replay** which is an important thing in RL. Experience replay stores past experiences and samples from them to train the network, breaking the correlations in the observation sequence."
   ]
  },
  {
   "cell_type": "markdown",
   "metadata": {},
   "source": [
    "## Deep RL Environment\n",
    "\n",
    "Now we will create our movie environment where we will train the DRL agent/model. An ideal RL environment involves a **state** i.e. the situation or the step the agent is in, **action** that the agent will take in that certain state and **reward**, or penalty, that the agent will receive. In a value-based setup, the agent will try to learn how much reward it can accumulate if takes a certain action at a certain step. Using this knowledge, an action can be inferred.\n",
    "\n",
    "Applying this concept on our context, we already have some user history data, but we will keep this away from the model, we will let it predict (i.e. give recommendations) and then reward it based on these recommendations and so on. So the state in our context represents a user's movie-watching history, the action is the recommendation made by the agent and the reward will be how many recommended movies the user has actually watched (as we know what movies a user watched alread). So in other words here is how our environment will look like:\n",
    "\n",
    "1. A user asks for recommendation (*current state*)\n",
    "2. The RL agent makes some recommendation (*action*) \n",
    "3. We look how many of these recommendations the user has already watched (*reward*)\n",
    "4. We then use the movies that the user has watched to update its state (*next state* i.e. the state when the agent sees the same customer again)\n",
    "\n",
    "Great! Now how can we put all of this technically?\n",
    "\n",
    "We have a 100-dimensional embedding vector per movie having similar movies close to each other numerically. We will then approximate a user's history and preferences by averaging the embeddings of the movies the user watched. This will create a 100-dimensional vector per user (the states) placing each user in the embedding space close to the movies they watched. So each time a user watches a movie, we update the user's state by taking the average between the user's current state and the movie embeddings. This approach is crucial in our model learning because it helps us calculate the **Expected Q Value**.\n",
    "\n",
    "To train the model we need to calculate the loss at each epoch right?. So we need a prediction and a target. Since the aim of the training is to eventually have a state per user that efficiently approximates its watching history so that the model can make better recommendations over time, so from each current state our target is the next state. We have the current state that we use to get the prediction from the model and by taking the average between this prediction and the embeddings of the movies watched we get the next state i.e. our target that we need the model to learn to get to i.e. to calculate the loss. This target is the Expected Q Value. It is expected because the model should have output it in its prediction because it is the correct one.\n",
    "\n",
    "Another important thing is the action. Usually the output from the model is n-dimensional vector having a value per action where n is the number of all possible actions. In our context, the actions are the movie recommendations and we have 1000 movies. While this may not be so much but it is not scalable i.e. normally there should hundreds of thousands of movies to be recommended. So we cannot have an output that is a value per movie. Therefore we use the embeddings. So instead of returning a value per movie and we recommend the ones with the highest values, the model will return a vector that we will use to get the most similar movies to this vector in the embeddings space using cosine similarity.\n",
    "\n",
    "Now let's put all of this into code!"
   ]
  },
  {
   "cell_type": "code",
   "execution_count": 7,
   "metadata": {},
   "outputs": [],
   "source": [
    "class MovieEnvironment:\n",
    "    def __init__(self, movie_embeddings, user_movies, actions = 100):\n",
    "        self.actions = actions\n",
    "        self.movie_embeddings = movie_embeddings\n",
    "        self.num_users = len(user_movies.keys())\n",
    "        # for simplicity we limit each user's history to 5 movies\n",
    "        self.sample_movies_per_user(user_movies, 5)\n",
    "        users = list(user_movies.keys())\n",
    "        self.init_states(users, actions)\n",
    "        \n",
    "    def init_states(self, users, actions):\n",
    "        # init random states per users to simulate the interactions\n",
    "        # these states to be updated\n",
    "        np.random.seed(1311)\n",
    "        self.user_states = dict(zip(users,\n",
    "                                    np.random.randn(self.num_users, actions)))\n",
    "        \n",
    "    def reward(self, recommended, user):\n",
    "        # how many recommended movies were actually watched\n",
    "        return len(set(recommended).intersection(self.user_movies[user]))\n",
    "        \n",
    "    def get_state(self, user):\n",
    "        return self.user_states[user].copy()\n",
    "    \n",
    "    def update_state(self, user, movie):\n",
    "        self.user_states[user] = np.array([self.user_states[user],\n",
    "                                           self.movie_embeddings[movie]]).mean(axis = 0)\n",
    "        \n",
    "    def sample_movies_per_user(self, user_movies, n):\n",
    "        self.user_movies = {}\n",
    "        for user in user_movies:\n",
    "            self.user_movies[user] = np.random.choice(user_movies[user],\n",
    "                                                      n, False)\n",
    "    \n",
    "    def cosine_similarity(self, a, b):\n",
    "        return np.dot(a, b) / (np.linalg.norm(a) * np.linalg.norm(b))        \n",
    "\n",
    "    def get_top_rec(self, action, n = 5):\n",
    "        similarities = {}\n",
    "        for key, value in self.movie_embeddings.items():\n",
    "            similarities[key] = self.cosine_similarity(action, value)\n",
    "         # Sort by similarity in descending order and get the top n keys\n",
    "        recommended = sorted(similarities,\n",
    "                             key = similarities.get,\n",
    "                             reverse = True)[:n]\n",
    "        return recommended\n",
    "    \n",
    "movie_env = MovieEnvironment(movie_embeddings, user_movies)"
   ]
  },
  {
   "cell_type": "markdown",
   "metadata": {},
   "source": [
    "## DRL Model and Experience Replay\n",
    "\n",
    "Now we will define our DQN model with experience replay and we will define some parameters for training. Experience Replay is crucial for the learning stability of our DQN. It enables the model to learn from a broad spectrum of past experiences, thereby enhancing the generalization of learning."
   ]
  },
  {
   "cell_type": "code",
   "execution_count": 8,
   "metadata": {},
   "outputs": [],
   "source": [
    "# Experience Replay\n",
    "class ReplayMemory:\n",
    "    def __init__(self, capacity):\n",
    "        self.memory = deque(maxlen = capacity)\n",
    "\n",
    "    def push(self, state, next_state, reward):\n",
    "        self.memory.append((state, next_state, reward))\n",
    "\n",
    "    def sample(self, batch_size):\n",
    "        return random.sample(self.memory, batch_size)\n",
    "\n",
    "    def __len__(self):\n",
    "        return len(self.memory)"
   ]
  },
  {
   "cell_type": "code",
   "execution_count": 9,
   "metadata": {},
   "outputs": [],
   "source": [
    "# Hyperparameters\n",
    "EMBEDDING_DIMS = 100\n",
    "LEARNING_RATE = 0.0001\n",
    "REPLAY_MEMORY_SIZE = 100\n",
    "BATCH_SIZE = 32\n",
    "\n",
    "# DQN Model\n",
    "class DQN(nn.Module):\n",
    "    def __init__(self):\n",
    "        super(DQN, self).__init__()\n",
    "        self.fc1 = nn.Linear(EMBEDDING_DIMS, 200)\n",
    "        self.fc2 = nn.Linear(200, 200)\n",
    "        self.drop1 = nn.Dropout(p = 0.25)\n",
    "        self.fc3 = nn.Linear(200, 200)\n",
    "        self.drop2 = nn.Dropout(p = 0.25)\n",
    "        self.fc4 = nn.Linear(200, EMBEDDING_DIMS)\n",
    "\n",
    "    def forward(self, x):\n",
    "        x = torch.relu(self.fc1(x))\n",
    "        x = torch.relu(self.fc2(x))\n",
    "        x = self.drop1(x)\n",
    "        x = torch.relu(self.fc3(x))\n",
    "        x = self.drop2(x)\n",
    "        x = self.fc4(x)\n",
    "        return x\n",
    "\n",
    "# Initialize network and optimizer\n",
    "device = \"cuda\" if torch.cuda.is_available() else \"cpu\"\n",
    "rl_agent = DQN().to(device)\n",
    "optimizer = optim.Adam(rl_agent.parameters(), lr = LEARNING_RATE)\n",
    "memory = ReplayMemory(REPLAY_MEMORY_SIZE)"
   ]
  },
  {
   "cell_type": "markdown",
   "metadata": {},
   "source": [
    "## Model Training (Simulating User Interactions)\n",
    "\n",
    "As we spoke above, we simulate user interactions using historical data. The most important part is calculating the loss between the current Q-value (the model's prediction based on the user's current state) and the expected Q-value, which is derived from the actual user interactions (user's next state which is the average between the user's current state and the movies embeddings in other words the correct state the model should have predicted). And then we use the expected Q-value as the next state updating the user's state.\n",
    "\n",
    "One thing to note is the **Exploration-Exploitation** part in the training loop. We will implement the **epsilon-greedy** approach. The epsilon-greedy approach in exploration and exploitation is a simple yet effective strategy used in reinforcement learning. It balances the act of exploring new actions with exploiting the best-known action. Here's how it works:\n",
    "\n",
    "Epsilon: A small probability value (between 0 and 1). It determines how often the algorithm will explore.\n",
    "Exploration: With probability epsilon, the algorithm chooses an action at random, exploring the environment.\n",
    "Exploitation: With probability (1 - epsilon), the algorithm exploits its current knowledge by choosing the action it sees the best.\n",
    "\n",
    "We will start with a high epsilon (0.5) to make the model starts curious and as learning progresses, it will be gradually decreased, shifting the balance from exploration towards more exploitation using its gained knowledge over time."
   ]
  },
  {
   "cell_type": "code",
   "execution_count": 10,
   "metadata": {},
   "outputs": [],
   "source": [
    "rl_agent.train()\n",
    "# store rewards and losses over time for later visualization of performance\n",
    "rewards = []\n",
    "losses = []\n",
    "# following reward parameter is to get a moving average of the reward over epochs\n",
    "mean_reward = 0\n",
    "mean_reward_alpha = 0.01\n",
    "ma_rewads = []\n",
    "total_reward = 0\n",
    "num_interactions = 0\n",
    "# epsilon parameter for exploration-exploitation trade-off\n",
    "eps = 0.5\n",
    "# the epsilon parameter will decay over time i.e. model will start curious\n",
    "decay = 0.999"
   ]
  },
  {
   "cell_type": "code",
   "execution_count": 11,
   "metadata": {},
   "outputs": [],
   "source": [
    "# Training loop\n",
    "for user, actual_movies in movie_env.user_movies.items():\n",
    "    state = movie_env.get_state(user)\n",
    "    for movie in actual_movies:\n",
    "        eps *= decay\n",
    "        state_tensor = torch.FloatTensor(state).unsqueeze(0).to(device)\n",
    "        # exploration\n",
    "        if eps > np.random.random():\n",
    "            action = embs[np.random.randint(0, embs.shape[0])]\n",
    "        # exploitation\n",
    "        else:\n",
    "            action = rl_agent(state_tensor).cpu().detach().numpy()[0]\n",
    "        # get the top 5 recommendation from the agent\n",
    "        recommended = movie_env.get_top_rec(action)\n",
    "        reward = movie_env.reward(recommended, user)\n",
    "        # keep track of rewards\n",
    "        rewards.append(reward)\n",
    "        total_reward += reward\n",
    "        num_interactions += 1\n",
    "        # update user state based on the actual watched movie\n",
    "        movie_env.update_state(user, movie)\n",
    "        next_state = movie_env.get_state(user)\n",
    "        # push experiences to experience replay\n",
    "        memory.push(state, next_state, reward)\n",
    "        # sample from the experience replay memory to train the model\n",
    "        if len(memory) > BATCH_SIZE:\n",
    "            transitions = memory.sample(BATCH_SIZE)\n",
    "            # some past batches\n",
    "            batch_state, batch_next_state, batch_reward = zip(*transitions)\n",
    "            batch_state = torch.FloatTensor(np.array(batch_state)).to(device)\n",
    "            batch_reward = torch.FloatTensor(batch_reward)\n",
    "            # the expected Q-value is the next state\n",
    "            expected_q_value = torch.FloatTensor(np.array(batch_next_state))\n",
    "            # Forward pass (getting prediction on current state)\n",
    "            current_q_value = rl_agent(batch_state).cpu()\n",
    "            # Loss calculation\n",
    "            # (MSE between current_q_value and expected_q_value as target)\n",
    "            loss = nn.functional.mse_loss(current_q_value, expected_q_value)\n",
    "            # keep track of losses\n",
    "            losses.append(loss.item())\n",
    "            optimizer.zero_grad()\n",
    "            loss.backward()\n",
    "            optimizer.step()\n",
    "            state = next_state\n",
    "    \n",
    "    # calculate the reward moving average \n",
    "    epoch_mean_reward = total_reward / num_interactions if num_interactions > 0 else 0\n",
    "    mean_reward = mean_reward_alpha * epoch_mean_reward + (1 - mean_reward_alpha) * mean_reward\n",
    "    ma_rewads.append(mean_reward)"
   ]
  },
  {
   "cell_type": "markdown",
   "metadata": {},
   "source": [
    "Now let's look at the loss and reward evolution over time"
   ]
  },
  {
   "cell_type": "code",
   "execution_count": 12,
   "metadata": {},
   "outputs": [
    {
     "data": {
      "image/png": "[encoded data removed]",
      "text/plain": [
       "<Figure size 864x360 with 1 Axes>"
      ]
     },
     "metadata": {
      "needs_background": "light"
     },
     "output_type": "display_data"
    }
   ],
   "source": [
    "import seaborn as sns\n",
    "import matplotlib.pyplot as plt\n",
    "\n",
    "plt.figure(figsize = (12, 5))\n",
    "g = sns.lineplot(x = range(len(losses)), y = losses)\n",
    "# as we may have a lot of epochs we log scale the x-axis\n",
    "g.set_xscale(\"log\")"
   ]
  },
  {
   "cell_type": "code",
   "execution_count": 13,
   "metadata": {},
   "outputs": [
    {
     "data": {
      "text/plain": [
       "[<matplotlib.lines.Line2D at 0x190e999d188>]"
      ]
     },
     "execution_count": 13,
     "metadata": {},
     "output_type": "execute_result"
    },
    {
     "data": {
      "image/png": "[encoded data removed]",
      "text/plain": [
       "<Figure size 864x360 with 1 Axes>"
      ]
     },
     "metadata": {
      "needs_background": "light"
     },
     "output_type": "display_data"
    }
   ],
   "source": [
    "plt.figure(figsize = (12, 5))\n",
    "plt.plot(ma_rewads)"
   ]
  },
  {
   "cell_type": "markdown",
   "metadata": {},
   "source": [
    "As we see the loss is decreasing over time while average reward is increasing which indicates that the model is learning how to make better recommendations over time."
   ]
  },
  {
   "cell_type": "code",
   "execution_count": null,
   "metadata": {},
   "outputs": [],
   "source": []
  }
 ],
 "metadata": {
  "kernelspec": {
   "display_name": "Python 3",
   "language": "python",
   "name": "python3"
  },
  "language_info": {
   "codemirror_mode": {
    "name": "ipython",
    "version": 3
   },
   "file_extension": ".py",
   "mimetype": "text/x-python",
   "name": "python",
   "nbconvert_exporter": "python",
   "pygments_lexer": "ipython3",
   "version": "3.7.6"
  }
 },
 "nbformat": 4,
 "nbformat_minor": 4
}
